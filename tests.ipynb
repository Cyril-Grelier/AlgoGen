{
 "cells": [
  {
   "cell_type": "markdown",
   "metadata": {
    "toc": true
   },
   "source": [
    "<h1>Table of Contents<span class=\"tocSkip\"></span></h1>\n",
    "<div class=\"toc\"><ul class=\"toc-item\"><li><span><a href=\"#Etude-spécifique-des-paramètres-sur-One-Max\" data-toc-modified-id=\"Etude-spécifique-des-paramètres-sur-One-Max-1\"><span class=\"toc-item-num\">1&nbsp;&nbsp;</span>Etude spécifique des paramètres sur One Max</a></span><ul class=\"toc-item\"><li><span><a href=\"#Choix-d'une-configuration-&quot;neutre&quot;\" data-toc-modified-id=\"Choix-d'une-configuration-&quot;neutre&quot;-1.1\"><span class=\"toc-item-num\">1.1&nbsp;&nbsp;</span>Choix d'une configuration \"neutre\"</a></span></li></ul></li><li><span><a href=\"#Tests-sur-la-taille-de-la-population\" data-toc-modified-id=\"Tests-sur-la-taille-de-la-population-2\"><span class=\"toc-item-num\">2&nbsp;&nbsp;</span>Tests sur la taille de la population</a></span></li><li><span><a href=\"#Tests-sur-la-taille-des-chromosomes\" data-toc-modified-id=\"Tests-sur-la-taille-des-chromosomes-3\"><span class=\"toc-item-num\">3&nbsp;&nbsp;</span>Tests sur la taille des chromosomes</a></span></li><li><span><a href=\"#Tests-de-sélection\" data-toc-modified-id=\"Tests-de-sélection-4\"><span class=\"toc-item-num\">4&nbsp;&nbsp;</span>Tests de sélection</a></span></li><li><span><a href=\"#Tests-de-croisement\" data-toc-modified-id=\"Tests-de-croisement-5\"><span class=\"toc-item-num\">5&nbsp;&nbsp;</span>Tests de croisement</a></span></li><li><span><a href=\"#Tests-de-mutation\" data-toc-modified-id=\"Tests-de-mutation-6\"><span class=\"toc-item-num\">6&nbsp;&nbsp;</span>Tests de mutation</a></span></li><li><span><a href=\"#Tests-de-insertion\" data-toc-modified-id=\"Tests-de-insertion-7\"><span class=\"toc-item-num\">7&nbsp;&nbsp;</span>Tests de insertion</a></span></li><li><span><a href=\"#Test-sur-l'adaptatif\" data-toc-modified-id=\"Test-sur-l'adaptatif-8\"><span class=\"toc-item-num\">8&nbsp;&nbsp;</span>Test sur l'adaptatif</a></span></li><li><span><a href=\"#Tests-sur-les-permutations\" data-toc-modified-id=\"Tests-sur-les-permutations-9\"><span class=\"toc-item-num\">9&nbsp;&nbsp;</span>Tests sur les permutations</a></span><ul class=\"toc-item\"><li><span><a href=\"#crossover\" data-toc-modified-id=\"crossover-9.1\"><span class=\"toc-item-num\">9.1&nbsp;&nbsp;</span>crossover</a></span></li><li><span><a href=\"#adaptatif\" data-toc-modified-id=\"adaptatif-9.2\"><span class=\"toc-item-num\">9.2&nbsp;&nbsp;</span>adaptatif</a></span></li></ul></li></ul></div>"
   ]
  },
  {
   "cell_type": "markdown",
   "metadata": {},
   "source": [
    "# Etude spécifique des paramètres sur One Max\n",
    "\n",
    "Nous étudierons les modifications apportés par différentes variantes possibles d'algorithmes génétiques sur le problème du OneMax.\n",
    "\n",
    "Ci dessous les différents paramètres possibles:\n",
    "\n",
    "- Sélection :\n",
    "    - sélection par tournoi ('select_tournament')\n",
    "    - sélection aléatoire ('select_random')\n",
    "    - sélection des meilleurs individus ('select_best')\n",
    "    - weel\n",
    "- Croisement :\n",
    "    - uniforme\n",
    "    - monopoint\n",
    "    - multipoint\n",
    "- Mutation :\n",
    "    - n-flip\n",
    "    - bit-flip\n",
    "- Insertion :\n",
    "    - âge\n",
    "    - fitness\n",
    "\n",
    "Nous étudierons aussi l'influence de la taille de la population et la taille des chromosomes.\n",
    "\n",
    "\n",
    "## Choix d'une configuration \"neutre\"\n",
    "\n",
    "Pour réaliser notre étude, nous utiliserons des paramètres de base considérés comme neutres pour l'apprentissage:\n",
    "\n",
    "- taille de population : 100\n",
    "- taille d'un chromosome : 100\n",
    "- Sélection : sélection par tournoi 5-2\n",
    "- Croisement : uniforme\n",
    "- Mutation : bit-flip\n",
    "- Insertion : âge\n",
    "\n",
    "        \n",
    "        varier taille pop 5 -> 100\n",
    "        \n",
    "    fixer la taille 20/30\n",
    "    \n",
    "        étude des selections (reste fixe)\n",
    "        \n",
    "            diff composants/operateurs\n",
    "\n",
    "    => bonne config\n",
    "    \n",
    "        tournois 5-2 =, crossover uniforme, bit flip, fitness\n",
    "        \n",
    "\n",
    "    varier tx mutation\n",
    "    tx croisement\n",
    "    \n",
    "    comparaison de diff config"
   ]
  },
  {
   "cell_type": "code",
   "execution_count": 1,
   "metadata": {
    "ExecuteTime": {
     "end_time": "2020-01-26T18:11:13.417252Z",
     "start_time": "2020-01-26T18:11:12.935163Z"
    }
   },
   "outputs": [],
   "source": [
    "from algo_gen.classes import Population\n",
    "from algo_gen.tools.plot import save_stats\n",
    "from algo_gen.individuals.onemax import IndividualOneMax\n",
    "from algo_gen.individuals.STS import IndividualSTS\n",
    "from copy import deepcopy\n",
    "import random\n",
    "from tqdm import tqdm_notebook as tqdm\n",
    "\n",
    "def final_condition(population):\n",
    "    if population.stats['max_fitness'][-1] == population.parameters['chromosome size']:\n",
    "        return False\n",
    "    else:\n",
    "        return not (population.nb_turns == population.parameters['nb turn max'])\n",
    "    \n",
    "def test_changements(parametres, changements, nom_param, nom):\n",
    "    stats = []\n",
    "    label = []\n",
    "    for i in tqdm(changements):\n",
    "        for j in tqdm(range(20)):\n",
    "            random.seed(j)\n",
    "            parametres[nom_param] = i\n",
    "            population = Population(parametres)\n",
    "            population.start()\n",
    "            stats.append(deepcopy(population.stats))\n",
    "            label.append(i)\n",
    "    save_stats(stats, label, nom)"
   ]
  },
  {
   "cell_type": "markdown",
   "metadata": {},
   "source": [
    "# Tests sur la taille de la population\n",
    "\n",
    "variation de la taille de 5 à 100"
   ]
  },
  {
   "cell_type": "code",
   "execution_count": null,
   "metadata": {},
   "outputs": [],
   "source": [
    "parametres = {\n",
    "    'individual': IndividualOneMax,\n",
    "    \n",
    "    'population size': 100,\n",
    "    'chromosome size': 100,\n",
    "    \n",
    "    'termination_condition': final_condition,\n",
    "    \n",
    "    'nb turn max': 10000,\n",
    "    \n",
    "    'selection': ['select_tournament'],\n",
    "    'proportion selection': 0.02,\n",
    "    \n",
    "    'crossover': ['uniforme'],\n",
    "    'proportion crossover': 1,\n",
    "    \n",
    "    'mutation': ['bit-flip'],\n",
    "    'proportion mutation': 0.2,\n",
    "    \n",
    "    'insertion': 'age',\n",
    "}\n",
    "\n",
    "stats = []\n",
    "label = []\n",
    "for i in tqdm([ 5, 25, 50, 75, 100, 200]):\n",
    "    for j in tqdm(range(20)):\n",
    "        random.seed(j)\n",
    "        parametres['population size'] = i\n",
    "        parametres['proportion selection'] = 2\n",
    "        population = Population(parametres)\n",
    "        population.start()\n",
    "        stats.append(population.stats)\n",
    "        label.append(i)\n",
    "save_stats(stats, label, \"PopulationSize\")"
   ]
  },
  {
   "cell_type": "markdown",
   "metadata": {},
   "source": [
    "# Tests sur la taille des chromosomes\n"
   ]
  },
  {
   "cell_type": "code",
   "execution_count": null,
   "metadata": {},
   "outputs": [],
   "source": [
    "parametres = {\n",
    "    'individual': IndividualOneMax,\n",
    "    \n",
    "    'population size': 100,\n",
    "    'chromosome size': 100,\n",
    "    \n",
    "    'termination_condition': final_condition,\n",
    "    \n",
    "    'nb turn max': 10000,\n",
    "    \n",
    "    'selection': ['select_tournament'],\n",
    "    'proportion selection': 0.02,\n",
    "    \n",
    "    'crossover': ['uniforme'],\n",
    "    'proportion crossover': 1,\n",
    "    \n",
    "    'mutation': ['bit-flip'],\n",
    "    'proportion mutation': 0.2,\n",
    "    \n",
    "    'insertion': 'age',\n",
    "}\n",
    "changements = [5, 25, 50, 75, 100]\n",
    "nom_param = 'chromosome size'\n",
    "nom = \"ChromosomeSize\"\n",
    "test_changements(parametres, changements, nom_param, nom)"
   ]
  },
  {
   "cell_type": "markdown",
   "metadata": {},
   "source": [
    "# Tests de sélection\n",
    "\n",
    "\n"
   ]
  },
  {
   "cell_type": "code",
   "execution_count": null,
   "metadata": {},
   "outputs": [],
   "source": [
    "parametres = {\n",
    "    'individual': IndividualOneMax,\n",
    "    \n",
    "    'population size': 100,\n",
    "    'chromosome size': 100,\n",
    "    \n",
    "    'termination_condition': final_condition,\n",
    "    \n",
    "    'nb turn max': 10000,\n",
    "    \n",
    "    'selection': ['select_tournament'],\n",
    "    'proportion selection': 0.02,\n",
    "    \n",
    "    'crossover': ['uniforme'],\n",
    "    'proportion crossover': 1,\n",
    "    \n",
    "    'mutation': ['bit-flip'],\n",
    "    'proportion mutation': 0.2,\n",
    "    \n",
    "    'insertion': 'age',\n",
    "}\n",
    "changements = [['select_random'],['select_best'],['select_tournament'],['select_wheel']]\n",
    "nom_param = 'selection'\n",
    "nom = \"Selection\"\n",
    "test_changements(parametres, changements, nom_param, nom)"
   ]
  },
  {
   "cell_type": "code",
   "execution_count": null,
   "metadata": {},
   "outputs": [],
   "source": [
    "parametres = {\n",
    "    'individual': IndividualOneMax,\n",
    "    \n",
    "    'population size': 100,\n",
    "    'chromosome size': 100,\n",
    "    \n",
    "    'termination_condition': final_condition,\n",
    "    \n",
    "    'nb turn max': 10000,\n",
    "    \n",
    "    'selection': ['select_tournament'],\n",
    "    'proportion selection': 0.02,\n",
    "    \n",
    "    'crossover': ['uniforme'],\n",
    "    'proportion crossover': 1,\n",
    "    \n",
    "    'mutation': ['bit-flip'],\n",
    "    'proportion mutation': 0.2,\n",
    "    \n",
    "    'insertion': 'age',\n",
    "}\n",
    "changements = [0.02, 0.1, 0.2, 0.4, 0.6, 0.8, 1]\n",
    "nom_param = 'proportion selection'\n",
    "nom = \"ProportionSelection\"\n",
    "test_changements(parametres, changements, nom_param, nom)"
   ]
  },
  {
   "cell_type": "markdown",
   "metadata": {},
   "source": [
    "# Tests de croisement\n",
    "\n",
    "\n"
   ]
  },
  {
   "cell_type": "code",
   "execution_count": null,
   "metadata": {},
   "outputs": [],
   "source": [
    "parametres = {\n",
    "    'individual': IndividualOneMax,\n",
    "    \n",
    "    'population size': 100,\n",
    "    'chromosome size': 100,\n",
    "    \n",
    "    'termination_condition': final_condition,\n",
    "    \n",
    "    'nb turn max': 10000,\n",
    "    \n",
    "    'selection': ['select_tournament'],\n",
    "    'proportion selection': 0.02,\n",
    "    \n",
    "    'crossover': ['uniforme'],\n",
    "    'proportion crossover': 1,\n",
    "    \n",
    "    'mutation': ['bit-flip'],\n",
    "    'proportion mutation': 0.2,\n",
    "    \n",
    "    'insertion': 'age',\n",
    "}\n",
    "changements = [['mono-point'],['multipoint'],['uniforme']]\n",
    "nom_param = 'crossover'\n",
    "nom = 'Crossover'\n",
    "test_changements(parametres, changements, nom_param, nom)"
   ]
  },
  {
   "cell_type": "code",
   "execution_count": null,
   "metadata": {},
   "outputs": [],
   "source": [
    "# number_of_team = 8\n",
    "# parametres = {\n",
    "#     'individual': IndividualSTS,\n",
    "#     'number of team': number_of_team,\n",
    "    \n",
    "#     'population size': 100,\n",
    "#     'chromosome size': (number_of_team - 1) * (number_of_team // 2),\n",
    "    \n",
    "#     'termination_condition': final_condition,\n",
    "    \n",
    "#     'nb turn max': 10000,\n",
    "    \n",
    "#     'selection': ['select_tournament'],\n",
    "#     'proportion selection': 0.02,\n",
    "    \n",
    "#     'crossover': ['uniforme'], ## a changer\n",
    "#     'proportion crossover': 1,\n",
    "    \n",
    "#     'mutation': ['bit-flip'], ## a changer\n",
    "#     'proportion mutation': 0.2,\n",
    "    \n",
    "#     'insertion': 'age',\n",
    "# }\n",
    "# changements = [['insert'],['swap'],['inversion'], ['scramble']]\n",
    "# nom_param = 'crossover'\n",
    "# nom = 'CrossoverPermutation'\n",
    "# test_changements(parametres, changements, nom_param, nom)"
   ]
  },
  {
   "cell_type": "code",
   "execution_count": null,
   "metadata": {},
   "outputs": [],
   "source": [
    "parametres = {\n",
    "    'individual': IndividualOneMax,\n",
    "    \n",
    "    'population size': 100,\n",
    "    'chromosome size': 100,\n",
    "    \n",
    "    'termination_condition': final_condition,\n",
    "    \n",
    "    'nb turn max': 10000,\n",
    "    \n",
    "    'selection': ['select_tournament'],\n",
    "    'proportion selection': 0.02,\n",
    "    \n",
    "    'crossover': ['uniforme'],\n",
    "    'proportion crossover': 1,\n",
    "    \n",
    "    'mutation': ['bit-flip'],\n",
    "    'proportion mutation': 0.2,\n",
    "    \n",
    "    'insertion': 'age',\n",
    "}\n",
    "changements = [0,0.2,0.4,0.6,0.8,1]\n",
    "nom_param = 'proportion crossover'\n",
    "nom = 'ProportionCrossover'\n",
    "test_changements(parametres, changements, nom_param, nom)"
   ]
  },
  {
   "cell_type": "markdown",
   "metadata": {},
   "source": [
    "# Tests de mutation\n",
    "\n",
    "\n"
   ]
  },
  {
   "cell_type": "code",
   "execution_count": null,
   "metadata": {},
   "outputs": [],
   "source": [
    "parametres = {\n",
    "    'individual': IndividualOneMax,\n",
    "    \n",
    "    'population size': 100,\n",
    "    'chromosome size': 100,\n",
    "    \n",
    "    'termination_condition': final_condition,\n",
    "    \n",
    "    'nb turn max': 10000,\n",
    "    \n",
    "    'selection': ['select_tournament'],\n",
    "    'proportion selection': 0.02,\n",
    "    \n",
    "    'crossover': ['uniforme'],\n",
    "    'proportion crossover': 1,\n",
    "    \n",
    "    'mutation': ['bit-flip'],\n",
    "    'proportion mutation': 0.2,\n",
    "    \n",
    "    'insertion': 'age',\n",
    "}\n",
    "changements = [['1-flip'],['3-flip'],['5-flip'],['bit-flip']]\n",
    "nom_param = 'mutation'\n",
    "nom = 'Mutation'\n",
    "test_changements(parametres, changements, nom_param, nom)"
   ]
  },
  {
   "cell_type": "code",
   "execution_count": null,
   "metadata": {},
   "outputs": [],
   "source": [
    "# number_of_team = 8\n",
    "# parametres = {\n",
    "#     'individual': IndividualSTS,\n",
    "#     'number of team': number_of_team,\n",
    "    \n",
    "#     'population size': 100,\n",
    "#     'chromosome size': (number_of_team - 1) * (number_of_team // 2),\n",
    "    \n",
    "#     'termination_condition': final_condition,\n",
    "    \n",
    "#     'nb turn max': 10000,\n",
    "    \n",
    "#     'selection': ['select_tournament'],\n",
    "#     'proportion selection': 0.02,\n",
    "    \n",
    "#     'crossover': ['uniforme'], ## a changer\n",
    "#     'proportion crossover': 1,\n",
    "    \n",
    "#     'mutation': ['bit-flip'], ## a changer\n",
    "#     'proportion mutation': 0.2,\n",
    "    \n",
    "#     'insertion': 'age',\n",
    "# }\n",
    "# changements = [['1-flip'],['3-flip'],['5-flip'],['bit-flip']]\n",
    "# nom_param = 'mutation'\n",
    "# nom = 'Mutation'\n",
    "# test_changements(parametres, changements, nom_param, nom)"
   ]
  },
  {
   "cell_type": "code",
   "execution_count": null,
   "metadata": {},
   "outputs": [],
   "source": [
    "parametres = {\n",
    "    'individual': IndividualOneMax,\n",
    "    \n",
    "    'population size': 100,\n",
    "    'chromosome size': 100,\n",
    "    \n",
    "    'termination_condition': final_condition,\n",
    "    \n",
    "    'nb turn max': 10000,\n",
    "    \n",
    "    'selection': ['select_tournament'],\n",
    "    'proportion selection': 0.02,\n",
    "    \n",
    "    'crossover': ['uniforme'],\n",
    "    'proportion crossover': 1,\n",
    "    \n",
    "    'mutation': ['bit-flip'],\n",
    "    'proportion mutation': 0.2,\n",
    "    \n",
    "    'insertion': 'age',\n",
    "}\n",
    "changements = [0.1,0.2,0.4,0.6,0.8,1]\n",
    "nom_param = 'proportion mutation'\n",
    "nom = 'ProportionMutation'\n",
    "test_changements(parametres, changements, nom_param, nom)"
   ]
  },
  {
   "cell_type": "markdown",
   "metadata": {},
   "source": [
    "# Tests de insertion\n",
    "\n",
    "\n"
   ]
  },
  {
   "cell_type": "code",
   "execution_count": null,
   "metadata": {},
   "outputs": [],
   "source": [
    "parametres = {\n",
    "    'individual': IndividualOneMax,\n",
    "    \n",
    "    'population size': 100,\n",
    "    'chromosome size': 100,\n",
    "    \n",
    "    'termination_condition': final_condition,\n",
    "    \n",
    "    'nb turn max': 10000,\n",
    "    \n",
    "    'selection': ['select_tournament'],\n",
    "    'proportion selection': 0.02,\n",
    "    \n",
    "    'crossover': ['uniforme'],\n",
    "    'proportion crossover': 1,\n",
    "    \n",
    "    'mutation': ['bit-flip'],\n",
    "    'proportion mutation': 0.2,\n",
    "    \n",
    "    'insertion': 'age',\n",
    "}\n",
    "changements = ['age', 'fitness']\n",
    "nom_param = 'insertion'\n",
    "nom = 'Insertion'\n",
    "test_changements(parametres, changements, nom_param, nom)"
   ]
  },
  {
   "cell_type": "markdown",
   "metadata": {
    "ExecuteTime": {
     "end_time": "2020-01-26T08:13:41.704431Z",
     "start_time": "2020-01-26T08:13:41.702645Z"
    }
   },
   "source": [
    "# Test sur l'adaptatif"
   ]
  },
  {
   "cell_type": "code",
   "execution_count": 2,
   "metadata": {
    "ExecuteTime": {
     "end_time": "2020-01-26T19:08:25.356057Z",
     "start_time": "2020-01-26T18:11:25.131932Z"
    },
    "scrolled": false
   },
   "outputs": [
    {
     "data": {
      "application/vnd.jupyter.widget-view+json": {
       "model_id": "b9ba46dc56fe4316add06423716fdcf8",
       "version_major": 2,
       "version_minor": 0
      },
      "text/plain": [
       "HBox(children=(IntProgress(value=0, max=5), HTML(value='')))"
      ]
     },
     "metadata": {},
     "output_type": "display_data"
    },
    {
     "data": {
      "application/vnd.jupyter.widget-view+json": {
       "model_id": "585dc6144df341ae981b91dd14360885",
       "version_major": 2,
       "version_minor": 0
      },
      "text/plain": [
       "HBox(children=(IntProgress(value=0, max=20), HTML(value='')))"
      ]
     },
     "metadata": {},
     "output_type": "display_data"
    },
    {
     "name": "stdout",
     "output_type": "stream",
     "text": [
      "\n"
     ]
    },
    {
     "data": {
      "application/vnd.jupyter.widget-view+json": {
       "model_id": "71f130b55cfc4f6fa35e7c99379e38c5",
       "version_major": 2,
       "version_minor": 0
      },
      "text/plain": [
       "HBox(children=(IntProgress(value=0, max=20), HTML(value='')))"
      ]
     },
     "metadata": {},
     "output_type": "display_data"
    },
    {
     "name": "stdout",
     "output_type": "stream",
     "text": [
      "\n"
     ]
    },
    {
     "data": {
      "application/vnd.jupyter.widget-view+json": {
       "model_id": "6e367f29abf84c3a9a69c7e50f57129a",
       "version_major": 2,
       "version_minor": 0
      },
      "text/plain": [
       "HBox(children=(IntProgress(value=0, max=20), HTML(value='')))"
      ]
     },
     "metadata": {},
     "output_type": "display_data"
    },
    {
     "name": "stdout",
     "output_type": "stream",
     "text": [
      "\n"
     ]
    },
    {
     "data": {
      "application/vnd.jupyter.widget-view+json": {
       "model_id": "80b7c466ecf148d3affcc6201ee1ac4f",
       "version_major": 2,
       "version_minor": 0
      },
      "text/plain": [
       "HBox(children=(IntProgress(value=0, max=20), HTML(value='')))"
      ]
     },
     "metadata": {},
     "output_type": "display_data"
    },
    {
     "name": "stdout",
     "output_type": "stream",
     "text": [
      "\n"
     ]
    },
    {
     "data": {
      "application/vnd.jupyter.widget-view+json": {
       "model_id": "cc04eee4b4f84ff6b365e1c448cb11e2",
       "version_major": 2,
       "version_minor": 0
      },
      "text/plain": [
       "HBox(children=(IntProgress(value=0, max=20), HTML(value='')))"
      ]
     },
     "metadata": {},
     "output_type": "display_data"
    },
    {
     "name": "stdout",
     "output_type": "stream",
     "text": [
      "\n",
      "\n"
     ]
    }
   ],
   "source": [
    "parametres = {\n",
    "    'individual': IndividualOneMax,\n",
    "    'population size': 100,\n",
    "    'chromosome size': 100,\n",
    "    'termination_condition': final_condition,\n",
    "    'nb turn max': 10000,\n",
    "    'selection': ['select_tournament'],\n",
    "    'proportion selection': 0.02,\n",
    "    'crossover': ['uniforme'],\n",
    "    'proportion crossover': 1,\n",
    "    'mutation': ['bit-flip'],\n",
    "    'proportion mutation': 1,\n",
    "    'insertion': 'age',\n",
    "}\n",
    "\n",
    "changements = [\n",
    "    ['1-flip'],\n",
    "    [\n",
    "        'adaptative',\n",
    "        'fixed roulette wheel',\n",
    "        [[0.25, '1-flip'], [0.25, '3-flip'], [0.25, '5-flip'],\n",
    "         [0.25, 'bit-flip']],\n",
    "    ],\n",
    "    [\n",
    "        'adaptative',\n",
    "        'adaptive roulette wheel',\n",
    "        [[0.25, '1-flip'], [0.25, '3-flip'], [0.25, '5-flip'],\n",
    "         [0.25, 'bit-flip']],\n",
    "        0.10,\n",
    "    ],\n",
    "    [\n",
    "        'adaptative',\n",
    "        'adaptive pursuit',\n",
    "        [[0.25, '1-flip'], [0.25, '3-flip'], [0.25, '5-flip'],\n",
    "         [0.25, 'bit-flip']],\n",
    "        0.15,\n",
    "        1.5,\n",
    "    ],\n",
    "    [\n",
    "        'adaptative',\n",
    "        'UCB',\n",
    "        [[0.25, '1-flip'], [0.25, '3-flip'], [0.25, '5-flip'],\n",
    "         [0.25, 'bit-flip']],\n",
    "    ],\n",
    "]\n",
    "nom_param = 'mutation'\n",
    "nom = 'MutationAdaptative'\n",
    "test_changements(parametres, changements, nom_param, nom)"
   ]
  },
  {
   "cell_type": "markdown",
   "metadata": {},
   "source": [
    "# Tests sur les permutations\n",
    "\n",
    "## crossover"
   ]
  },
  {
   "cell_type": "code",
   "execution_count": null,
   "metadata": {},
   "outputs": [],
   "source": [
    "from algo_gen.individuals.STS import IndividualSTS\n",
    "\n",
    "def final_condition(population):\n",
    "    if population.stats['max_fitness'][-1] == 0:\n",
    "        return False\n",
    "    else:\n",
    "        return not (population.nb_turns == population.parameters['nb turn max'])\n",
    "\n",
    "number_of_team = 6\n",
    "\n",
    "parametres = {\n",
    "    'individual': IndividualSTS,\n",
    "    'only weeks': False,\n",
    "    'number of team': number_of_team,\n",
    "    \n",
    "    'population size': 100,\n",
    "    'chromosome size': (number_of_team - 1) * (number_of_team // 2),\n",
    "    \n",
    "    'termination_condition': final_condition,\n",
    "    \n",
    "    'nb turn max': 10000,\n",
    "    \n",
    "    'selection': ['select_tournament'],\n",
    "    'proportion selection': 0.02,\n",
    "    \n",
    "    'crossover': ['pmx'],\n",
    "    'proportion crossover': 1,\n",
    "    \n",
    "    'mutation': ['inversion'],\n",
    "    'proportion mutation': 0.5,\n",
    "    \n",
    "    'insertion': 'age',\n",
    "}\n",
    "\n",
    "# crossover = [['order 1'], ['pmx']]\n",
    "# nom = ['Ordre1', 'PMX']\n",
    "# for cross in range(len(crossover)):\n",
    "#     parametres['crossover'] = crossover[cross]\n",
    "#     changements = [['insert'], ['swap'], ['inversion'], ['scramble']]\n",
    "#     nom_param = 'mutation'\n",
    "#     nom = 'Crossover6' + nom[cross]\n",
    "#     test_changements(parametres, changements, nom_param, nom)\n",
    "\n",
    "parametres['crossover'] = ['pmx']\n",
    "changements = [['insert'], ['swap'], ['inversion'], ['scramble']]\n",
    "nom_param = 'mutation'\n",
    "nom = 'Crossover6PMX'\n",
    "test_changements(parametres, changements, nom_param, nom)"
   ]
  },
  {
   "cell_type": "markdown",
   "metadata": {},
   "source": [
    "## adaptatif"
   ]
  },
  {
   "cell_type": "code",
   "execution_count": null,
   "metadata": {},
   "outputs": [],
   "source": []
  }
 ],
 "metadata": {
  "kernelspec": {
   "display_name": "Python 3",
   "language": "python",
   "name": "python3"
  },
  "language_info": {
   "codemirror_mode": {
    "name": "ipython",
    "version": 3
   },
   "file_extension": ".py",
   "mimetype": "text/x-python",
   "name": "python",
   "nbconvert_exporter": "python",
   "pygments_lexer": "ipython3",
   "version": "3.6.9"
  },
  "toc": {
   "base_numbering": 1,
   "nav_menu": {},
   "number_sections": true,
   "sideBar": true,
   "skip_h1_title": false,
   "title_cell": "Table of Contents",
   "title_sidebar": "Contents",
   "toc_cell": true,
   "toc_position": {},
   "toc_section_display": true,
   "toc_window_display": false
  },
  "varInspector": {
   "cols": {
    "lenName": 16,
    "lenType": 16,
    "lenVar": 40
   },
   "kernels_config": {
    "python": {
     "delete_cmd_postfix": "",
     "delete_cmd_prefix": "del ",
     "library": "var_list.py",
     "varRefreshCmd": "print(var_dic_list())"
    },
    "r": {
     "delete_cmd_postfix": ") ",
     "delete_cmd_prefix": "rm(",
     "library": "var_list.r",
     "varRefreshCmd": "cat(var_dic_list()) "
    }
   },
   "types_to_exclude": [
    "module",
    "function",
    "builtin_function_or_method",
    "instance",
    "_Feature"
   ],
   "window_display": false
  }
 },
 "nbformat": 4,
 "nbformat_minor": 2
}
